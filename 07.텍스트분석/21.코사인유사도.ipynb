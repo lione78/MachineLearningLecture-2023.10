{
 "cells": [
  {
   "cell_type": "markdown",
   "metadata": {},
   "source": [
    "### 코사인 유사도(Cosine Similarity)"
   ]
  },
  {
   "cell_type": "markdown",
   "metadata": {},
   "source": [
    "##### 문장의 유사도를 측정할 때 사용"
   ]
  },
  {
   "cell_type": "code",
   "execution_count": 1,
   "metadata": {},
   "outputs": [],
   "source": [
    "import numpy as np"
   ]
  },
  {
   "cell_type": "code",
   "execution_count": 3,
   "metadata": {},
   "outputs": [
    {
     "data": {
      "text/plain": [
       "(1.4142135623730951, 2.23606797749979, 1.0)"
      ]
     },
     "execution_count": 3,
     "metadata": {},
     "output_type": "execute_result"
    }
   ],
   "source": [
    "v1, v2, v3 = np.array([1,1,0]), np.array([2,1,0]), np.array([0,0,1])\n",
    "v1_norm = np.sqrt(np.sum(np.square(v1)))     # 원점에서 v1까지의 유클리드 거리\n",
    "v2_norm = np.sqrt(np.sum(np.square(v2)))\n",
    "v3_norm = np.sqrt(np.sum(np.square(v3)))\n",
    "v1_norm, v2_norm, v3_norm"
   ]
  },
  {
   "cell_type": "code",
   "execution_count": 5,
   "metadata": {},
   "outputs": [
    {
     "data": {
      "text/plain": [
       "(0.9486832980505138, 0.0)"
      ]
     },
     "execution_count": 5,
     "metadata": {},
     "output_type": "execute_result"
    }
   ],
   "source": [
    "# v1과 v2의 유사도, v1과 v3의 유사도\n",
    "cos12 = np.dot(v1, v2) / (v1_norm * v2_norm)\n",
    "cos13 = np.dot(v1, v3) / (v1_norm * v3_norm)\n",
    "cos12, cos13\n",
    "# cos12는 관계가 없다, cos13는 관계가 있음."
   ]
  },
  {
   "cell_type": "code",
   "execution_count": 6,
   "metadata": {},
   "outputs": [],
   "source": [
    "def cos_similarity(v1, v2):\n",
    "    v1_norm = np.sqrt(np.sum(np.square(v1)))\n",
    "    v2_norm = np.sqrt(np.sum(np.square(v2)))\n",
    "    return np.dot(v1, v2) / (v1_norm * v2_norm)"
   ]
  },
  {
   "cell_type": "markdown",
   "metadata": {},
   "source": [
    "- 문장의 코사인 유사도"
   ]
  },
  {
   "cell_type": "code",
   "execution_count": 7,
   "metadata": {},
   "outputs": [],
   "source": [
    "doc_list = [\n",
    "    'If you take the blue pill, the story ends',\n",
    "    'If you take the red pill, you stay in Wonderland',\n",
    "    'If you take the red pill, I show you how deep the rabbit hole goes'\n",
    "]"
   ]
  },
  {
   "cell_type": "code",
   "execution_count": 8,
   "metadata": {},
   "outputs": [
    {
     "data": {
      "text/plain": [
       "array([[1, 0, 1, 0, 0, 1, 0, 0, 0, 1, 0],\n",
       "       [0, 0, 0, 0, 0, 1, 0, 1, 1, 0, 1],\n",
       "       [0, 1, 0, 1, 1, 1, 1, 1, 0, 0, 0]], dtype=int64)"
      ]
     },
     "execution_count": 8,
     "metadata": {},
     "output_type": "execute_result"
    }
   ],
   "source": [
    "from sklearn.feature_extraction.text import CountVectorizer     # TfidfVectorizer도 가능\n",
    "cvect = CountVectorizer(stop_words='english')\n",
    "doc_cv = cvect.fit_transform(doc_list)\n",
    "doc_array = doc_cv.toarray()\n",
    "doc_array"
   ]
  },
  {
   "cell_type": "code",
   "execution_count": 9,
   "metadata": {},
   "outputs": [
    {
     "name": "stdout",
     "output_type": "stream",
     "text": [
      "문장1 vs 문장2: 0.2500\n",
      "문장1 vs 문장3: 0.2041\n",
      "문장2 vs 문장3: 0.4082\n"
     ]
    }
   ],
   "source": [
    "print(f'문장1 vs 문장2: {cos_similarity(doc_array[0], doc_array[1]):.4f}')\n",
    "print(f'문장1 vs 문장3: {cos_similarity(doc_array[0], doc_array[2]):.4f}')\n",
    "print(f'문장2 vs 문장3: {cos_similarity(doc_array[1], doc_array[2]):.4f}')\n",
    "# 계략적으로 문장이 비슷한 정도 파악 cos0도 = 1 0도니까 가깝다."
   ]
  },
  {
   "cell_type": "markdown",
   "metadata": {},
   "source": [
    "- Scikit-Learn 코사인 유사도"
   ]
  },
  {
   "cell_type": "code",
   "execution_count": 10,
   "metadata": {},
   "outputs": [],
   "source": [
    "from sklearn.metrics.pairwise import cosine_similarity"
   ]
  },
  {
   "cell_type": "code",
   "execution_count": 11,
   "metadata": {},
   "outputs": [
    {
     "data": {
      "text/plain": [
       "array([[1.        , 0.25      , 0.20412415],\n",
       "       [0.25      , 1.        , 0.40824829],\n",
       "       [0.20412415, 0.40824829, 1.        ]])"
      ]
     },
     "execution_count": 11,
     "metadata": {},
     "output_type": "execute_result"
    }
   ],
   "source": [
    "cosine_similarity(doc_cv, doc_cv)\n",
    "# 대각은 자기자신 신경안씀. 대각 아래는 같음. ex) 0,1 0,2 1,2가 위와 같음."
   ]
  },
  {
   "cell_type": "code",
   "execution_count": 12,
   "metadata": {},
   "outputs": [
    {
     "data": {
      "text/plain": [
       "array([[1.        , 0.25      , 0.20412415],\n",
       "       [0.25      , 1.        , 0.40824829],\n",
       "       [0.20412415, 0.40824829, 1.        ]])"
      ]
     },
     "execution_count": 12,
     "metadata": {},
     "output_type": "execute_result"
    }
   ],
   "source": [
    "from sklearn.feature_extraction.text import TfidfTransformer     # TfidfVectorizer도 가능\n",
    "tvect = CountVectorizer(stop_words='english')\n",
    "doc_tv = tvect.fit_transform(doc_list)\n",
    "doc_array = doc_tv.toarray()\n",
    "doc_array\n",
    "cosine_similarity(doc_tv, doc_tv)"
   ]
  }
 ],
 "metadata": {
  "kernelspec": {
   "display_name": "base",
   "language": "python",
   "name": "python3"
  },
  "language_info": {
   "codemirror_mode": {
    "name": "ipython",
    "version": 3
   },
   "file_extension": ".py",
   "mimetype": "text/x-python",
   "name": "python",
   "nbconvert_exporter": "python",
   "pygments_lexer": "ipython3",
   "version": "3.11.4"
  }
 },
 "nbformat": 4,
 "nbformat_minor": 2
}
