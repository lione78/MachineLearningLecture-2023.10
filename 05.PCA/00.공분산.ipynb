{
 "cells": [
  {
   "cell_type": "code",
   "execution_count": 1,
   "metadata": {},
   "outputs": [
    {
     "name": "stdout",
     "output_type": "stream",
     "text": [
      "X와 Y의 공분산: -2.5\n"
     ]
    }
   ],
   "source": [
    "import numpy as np\n",
    "\n",
    "# 두 변수 X와 Y의 데이터 포인트 예시\n",
    "X = np.array([1, 2, 3, 4, 5])\n",
    "Y = np.array([5, 4, 3, 2, 1])\n",
    "\n",
    "# 평균 계산\n",
    "mean_X = np.mean(X)\n",
    "mean_Y = np.mean(Y)\n",
    "\n",
    "# 공분산 계산\n",
    "n = len(X)\n",
    "covariance = np.sum((X - mean_X) * (Y - mean_Y)) / (n - 1)\n",
    "\n",
    "print(\"X와 Y의 공분산:\", covariance)"
   ]
  },
  {
   "cell_type": "code",
   "execution_count": 2,
   "metadata": {},
   "outputs": [
    {
     "name": "stdout",
     "output_type": "stream",
     "text": [
      "X와 Y의 공분산: -2.5\n",
      "X와 Z의 공분산: 2.5\n",
      "Y와 Z의 공분산: -2.5\n"
     ]
    }
   ],
   "source": [
    "import numpy as np\n",
    "\n",
    "# 세 변수 X, Y, Z의 데이터 포인트 예시\n",
    "X = np.array([1, 2, 3, 4, 5])\n",
    "Y = np.array([5, 4, 3, 2, 1])\n",
    "Z = np.array([2, 3, 4, 5, 6])\n",
    "\n",
    "# 평균 계산\n",
    "mean_X = np.mean(X)\n",
    "mean_Y = np.mean(Y)\n",
    "mean_Z = np.mean(Z)\n",
    "\n",
    "# 공분산 계산\n",
    "n = len(X)\n",
    "covariance_XY = np.sum((X - mean_X) * (Y - mean_Y)) / (n - 1)\n",
    "covariance_XZ = np.sum((X - mean_X) * (Z - mean_Z)) / (n - 1)\n",
    "covariance_YZ = np.sum((Y - mean_Y) * (Z - mean_Z)) / (n - 1)\n",
    "\n",
    "print(\"X와 Y의 공분산:\", covariance_XY)\n",
    "print(\"X와 Z의 공분산:\", covariance_XZ)\n",
    "print(\"Y와 Z의 공분산:\", covariance_YZ)"
   ]
  },
  {
   "cell_type": "code",
   "execution_count": 2,
   "metadata": {},
   "outputs": [
    {
     "name": "stdout",
     "output_type": "stream",
     "text": [
      "공분산 행렬:\n",
      "[[ 2.5 -2.5]\n",
      " [-2.5  2.5]]\n",
      "\n",
      "고유값 (Eigenvalues):\n",
      "[5.00000000e+00 5.55111512e-16]\n",
      "\n",
      "고유벡터 (Eigenvectors):\n",
      "[[ 0.70710678  0.70710678]\n",
      " [-0.70710678  0.70710678]]\n"
     ]
    }
   ],
   "source": [
    "import numpy as np\n",
    "\n",
    "# 두 변수 X와 Y의 데이터 포인트 예시\n",
    "X = np.array([1, 2, 3, 4, 5])\n",
    "Y = np.array([5, 4, 3, 2, 1])\n",
    "\n",
    "# X와 Y를 하나의 데이터 행렬로 정의\n",
    "data = np.vstack((X, Y))\n",
    "\n",
    "# 평균 계산\n",
    "mean_data = np.mean(data, axis=1)\n",
    "\n",
    "# 공분산 행렬 계산\n",
    "cov_matrix = np.cov(data)\n",
    "\n",
    "# 공분산 행렬의 고유값과 고유벡터 계산\n",
    "eigenvalues, eigenvectors = np.linalg.eig(cov_matrix)\n",
    "\n",
    "print(\"공분산 행렬:\")\n",
    "print(cov_matrix)\n",
    "print(\"\\n고유값 (Eigenvalues):\")\n",
    "print(eigenvalues)\n",
    "print(\"\\n고유벡터 (Eigenvectors):\")\n",
    "print(eigenvectors)"
   ]
  },
  {
   "cell_type": "code",
   "execution_count": 3,
   "metadata": {},
   "outputs": [
    {
     "name": "stdout",
     "output_type": "stream",
     "text": [
      "공분산 행렬:\n",
      "[[ 2.5 -2.5]\n",
      " [-2.5  2.5]]\n"
     ]
    }
   ],
   "source": [
    "import numpy as np\n",
    "\n",
    "# 두 변수 X와 Y의 데이터 포인트 예시\n",
    "X = np.array([1, 2, 3, 4, 5])\n",
    "Y = np.array([5, 4, 3, 2, 1])\n",
    "\n",
    "# 평균 계산\n",
    "mean_X = np.mean(X)\n",
    "mean_Y = np.mean(Y)\n",
    "\n",
    "# 각 변수의 편차 계산\n",
    "deviation_X = X - mean_X\n",
    "deviation_Y = Y - mean_Y\n",
    "\n",
    "# 공분산 행렬 계산\n",
    "n = len(X)\n",
    "cov_matrix = np.zeros((2, 2))\n",
    "\n",
    "# (1,1) 요소는 X의 분산\n",
    "cov_matrix[0, 0] = np.sum(deviation_X**2) / (n - 1)\n",
    "\n",
    "# (2,2) 요소는 Y의 분산\n",
    "cov_matrix[1, 1] = np.sum(deviation_Y**2) / (n - 1)\n",
    "\n",
    "# (1,2) 및 (2,1) 요소는 X와 Y의 공분산\n",
    "cov_matrix[0, 1] = cov_matrix[1, 0] = np.sum(deviation_X * deviation_Y) / (n - 1)\n",
    "\n",
    "print(\"공분산 행렬:\")\n",
    "print(cov_matrix)"
   ]
  },
  {
   "cell_type": "code",
   "execution_count": null,
   "metadata": {},
   "outputs": [],
   "source": []
  }
 ],
 "metadata": {
  "kernelspec": {
   "display_name": "base",
   "language": "python",
   "name": "python3"
  },
  "language_info": {
   "codemirror_mode": {
    "name": "ipython",
    "version": 3
   },
   "file_extension": ".py",
   "mimetype": "text/x-python",
   "name": "python",
   "nbconvert_exporter": "python",
   "pygments_lexer": "ipython3",
   "version": "3.11.4"
  }
 },
 "nbformat": 4,
 "nbformat_minor": 2
}
